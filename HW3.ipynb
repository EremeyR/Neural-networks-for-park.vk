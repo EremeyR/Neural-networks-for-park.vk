{
 "cells": [
  {
   "cell_type": "code",
   "execution_count": 1,
   "metadata": {},
   "outputs": [],
   "source": [
    "import torch\n",
    "import torch.nn as nn\n",
    "from torch.optim import Adam\n",
    "from torch.utils.data import DataLoader, Dataset\n",
    "from torch.utils.tensorboard import SummaryWriter\n",
    "import pandas as pd\n",
    "import os\n",
    "from tqdm import *\n",
    "import matplotlib.pyplot as plt\n",
    "from sklearn.metrics import mean_squared_error\n",
    "import pmdarima as pm\n",
    "import numpy as np\n",
    "%matplotlib inline"
   ]
  },
  {
   "cell_type": "code",
   "execution_count": 2,
   "metadata": {},
   "outputs": [],
   "source": [
    "torch.manual_seed(100)\n",
    "np.random.seed(100)"
   ]
  },
  {
   "cell_type": "markdown",
   "metadata": {},
   "source": [
    "# Ноутбук для ДЗ №4 обработка временных последовательностей RNN\n",
    "В данном дз вам будут данных времменая последовательно, которая описывает распределение хитов по времени за несколько лет. Вам нужно будет обучить модель RNN на исторических данных и потом сделать предсказание для \"будущего\" года, в текущей задаче это 2019 год"
   ]
  },
  {
   "cell_type": "markdown",
   "metadata": {},
   "source": [
    "## Готовим данные"
   ]
  },
  {
   "cell_type": "code",
   "execution_count": 3,
   "metadata": {},
   "outputs": [],
   "source": [
    "def read_set(file):\n",
    "    data = pd.read_csv(file)\n",
    "    data['date'] = pd.to_datetime(data['date'])\n",
    "    data = data.rename(columns = {'DATE':'date'})\n",
    "    data = data.rename(columns = {'hits':'value'})\n",
    "    data = data.set_index('date')\n",
    "    return data"
   ]
  },
  {
   "cell_type": "code",
   "execution_count": 4,
   "metadata": {},
   "outputs": [],
   "source": [
    "data_train = read_set('train.csv')\n",
    "data_test =  read_set('derived.csv')\n",
    "data_sample = read_set('sample_submission.csv')"
   ]
  },
  {
   "cell_type": "markdown",
   "metadata": {},
   "source": [
    "### Проверим наши данные, что мы загрузили"
   ]
  },
  {
   "cell_type": "code",
   "execution_count": 5,
   "metadata": {},
   "outputs": [
    {
     "name": "stdout",
     "output_type": "stream",
     "text": [
      "<class 'pandas.core.frame.DataFrame'>\n",
      "DatetimeIndex: 1096 entries, 2016-01-01 to 2018-12-31\n",
      "Data columns (total 1 columns):\n",
      " #   Column  Non-Null Count  Dtype\n",
      "---  ------  --------------  -----\n",
      " 0   value   1096 non-null   int64\n",
      "dtypes: int64(1)\n",
      "memory usage: 17.1 KB\n",
      "None\n",
      "<class 'pandas.core.frame.DataFrame'>\n",
      "DatetimeIndex: 365 entries, 2019-01-01 to 2019-12-31\n",
      "Data columns (total 1 columns):\n",
      " #   Column  Non-Null Count  Dtype\n",
      "---  ------  --------------  -----\n",
      " 0   value   365 non-null    int64\n",
      "dtypes: int64(1)\n",
      "memory usage: 5.7 KB\n",
      "None\n",
      "<class 'pandas.core.frame.DataFrame'>\n",
      "DatetimeIndex: 365 entries, 2019-01-01 to 2019-12-31\n",
      "Data columns (total 1 columns):\n",
      " #   Column  Non-Null Count  Dtype\n",
      "---  ------  --------------  -----\n",
      " 0   value   365 non-null    int64\n",
      "dtypes: int64(1)\n",
      "memory usage: 5.7 KB\n",
      "None\n"
     ]
    }
   ],
   "source": [
    "print( data_train.info() )\n",
    "print( data_test.info() )\n",
    "print( data_sample.info() )"
   ]
  },
  {
   "cell_type": "code",
   "execution_count": 6,
   "metadata": {},
   "outputs": [
    {
     "data": {
      "text/html": [
       "<div>\n",
       "<style scoped>\n",
       "    .dataframe tbody tr th:only-of-type {\n",
       "        vertical-align: middle;\n",
       "    }\n",
       "\n",
       "    .dataframe tbody tr th {\n",
       "        vertical-align: top;\n",
       "    }\n",
       "\n",
       "    .dataframe thead th {\n",
       "        text-align: right;\n",
       "    }\n",
       "</style>\n",
       "<table border=\"1\" class=\"dataframe\">\n",
       "  <thead>\n",
       "    <tr style=\"text-align: right;\">\n",
       "      <th></th>\n",
       "      <th>value</th>\n",
       "    </tr>\n",
       "  </thead>\n",
       "  <tbody>\n",
       "    <tr>\n",
       "      <th>count</th>\n",
       "      <td>1.096000e+03</td>\n",
       "    </tr>\n",
       "    <tr>\n",
       "      <th>mean</th>\n",
       "      <td>2.792255e+08</td>\n",
       "    </tr>\n",
       "    <tr>\n",
       "      <th>std</th>\n",
       "      <td>7.677884e+07</td>\n",
       "    </tr>\n",
       "    <tr>\n",
       "      <th>min</th>\n",
       "      <td>1.103556e+08</td>\n",
       "    </tr>\n",
       "    <tr>\n",
       "      <th>25%</th>\n",
       "      <td>2.317301e+08</td>\n",
       "    </tr>\n",
       "    <tr>\n",
       "      <th>50%</th>\n",
       "      <td>2.791131e+08</td>\n",
       "    </tr>\n",
       "    <tr>\n",
       "      <th>75%</th>\n",
       "      <td>3.287730e+08</td>\n",
       "    </tr>\n",
       "    <tr>\n",
       "      <th>max</th>\n",
       "      <td>4.550733e+08</td>\n",
       "    </tr>\n",
       "  </tbody>\n",
       "</table>\n",
       "</div>"
      ],
      "text/plain": [
       "              value\n",
       "count  1.096000e+03\n",
       "mean   2.792255e+08\n",
       "std    7.677884e+07\n",
       "min    1.103556e+08\n",
       "25%    2.317301e+08\n",
       "50%    2.791131e+08\n",
       "75%    3.287730e+08\n",
       "max    4.550733e+08"
      ]
     },
     "execution_count": 6,
     "metadata": {},
     "output_type": "execute_result"
    }
   ],
   "source": [
    "data_train.describe()"
   ]
  },
  {
   "cell_type": "code",
   "execution_count": 7,
   "metadata": {},
   "outputs": [
    {
     "data": {
      "text/html": [
       "<div>\n",
       "<style scoped>\n",
       "    .dataframe tbody tr th:only-of-type {\n",
       "        vertical-align: middle;\n",
       "    }\n",
       "\n",
       "    .dataframe tbody tr th {\n",
       "        vertical-align: top;\n",
       "    }\n",
       "\n",
       "    .dataframe thead th {\n",
       "        text-align: right;\n",
       "    }\n",
       "</style>\n",
       "<table border=\"1\" class=\"dataframe\">\n",
       "  <thead>\n",
       "    <tr style=\"text-align: right;\">\n",
       "      <th></th>\n",
       "      <th>value</th>\n",
       "    </tr>\n",
       "  </thead>\n",
       "  <tbody>\n",
       "    <tr>\n",
       "      <th>count</th>\n",
       "      <td>3.650000e+02</td>\n",
       "    </tr>\n",
       "    <tr>\n",
       "      <th>mean</th>\n",
       "      <td>2.250691e+08</td>\n",
       "    </tr>\n",
       "    <tr>\n",
       "      <th>std</th>\n",
       "      <td>6.798229e+07</td>\n",
       "    </tr>\n",
       "    <tr>\n",
       "      <th>min</th>\n",
       "      <td>1.055197e+08</td>\n",
       "    </tr>\n",
       "    <tr>\n",
       "      <th>25%</th>\n",
       "      <td>1.467913e+08</td>\n",
       "    </tr>\n",
       "    <tr>\n",
       "      <th>50%</th>\n",
       "      <td>2.525773e+08</td>\n",
       "    </tr>\n",
       "    <tr>\n",
       "      <th>75%</th>\n",
       "      <td>2.724223e+08</td>\n",
       "    </tr>\n",
       "    <tr>\n",
       "      <th>max</th>\n",
       "      <td>3.410300e+08</td>\n",
       "    </tr>\n",
       "  </tbody>\n",
       "</table>\n",
       "</div>"
      ],
      "text/plain": [
       "              value\n",
       "count  3.650000e+02\n",
       "mean   2.250691e+08\n",
       "std    6.798229e+07\n",
       "min    1.055197e+08\n",
       "25%    1.467913e+08\n",
       "50%    2.525773e+08\n",
       "75%    2.724223e+08\n",
       "max    3.410300e+08"
      ]
     },
     "execution_count": 7,
     "metadata": {},
     "output_type": "execute_result"
    }
   ],
   "source": [
    "data_test.describe()"
   ]
  },
  {
   "cell_type": "code",
   "execution_count": 8,
   "metadata": {},
   "outputs": [
    {
     "data": {
      "text/html": [
       "<div>\n",
       "<style scoped>\n",
       "    .dataframe tbody tr th:only-of-type {\n",
       "        vertical-align: middle;\n",
       "    }\n",
       "\n",
       "    .dataframe tbody tr th {\n",
       "        vertical-align: top;\n",
       "    }\n",
       "\n",
       "    .dataframe thead th {\n",
       "        text-align: right;\n",
       "    }\n",
       "</style>\n",
       "<table border=\"1\" class=\"dataframe\">\n",
       "  <thead>\n",
       "    <tr style=\"text-align: right;\">\n",
       "      <th></th>\n",
       "      <th>value</th>\n",
       "    </tr>\n",
       "  </thead>\n",
       "  <tbody>\n",
       "    <tr>\n",
       "      <th>count</th>\n",
       "      <td>365.0</td>\n",
       "    </tr>\n",
       "    <tr>\n",
       "      <th>mean</th>\n",
       "      <td>110355560.0</td>\n",
       "    </tr>\n",
       "    <tr>\n",
       "      <th>std</th>\n",
       "      <td>0.0</td>\n",
       "    </tr>\n",
       "    <tr>\n",
       "      <th>min</th>\n",
       "      <td>110355560.0</td>\n",
       "    </tr>\n",
       "    <tr>\n",
       "      <th>25%</th>\n",
       "      <td>110355560.0</td>\n",
       "    </tr>\n",
       "    <tr>\n",
       "      <th>50%</th>\n",
       "      <td>110355560.0</td>\n",
       "    </tr>\n",
       "    <tr>\n",
       "      <th>75%</th>\n",
       "      <td>110355560.0</td>\n",
       "    </tr>\n",
       "    <tr>\n",
       "      <th>max</th>\n",
       "      <td>110355560.0</td>\n",
       "    </tr>\n",
       "  </tbody>\n",
       "</table>\n",
       "</div>"
      ],
      "text/plain": [
       "             value\n",
       "count        365.0\n",
       "mean   110355560.0\n",
       "std            0.0\n",
       "min    110355560.0\n",
       "25%    110355560.0\n",
       "50%    110355560.0\n",
       "75%    110355560.0\n",
       "max    110355560.0"
      ]
     },
     "execution_count": 8,
     "metadata": {},
     "output_type": "execute_result"
    }
   ],
   "source": [
    "data_sample.describe()"
   ]
  },
  {
   "cell_type": "markdown",
   "metadata": {},
   "source": [
    "## Графики наших временных последовательностей"
   ]
  },
  {
   "cell_type": "code",
   "execution_count": 9,
   "metadata": {},
   "outputs": [
    {
     "data": {
      "image/png": "[encoded data removed]",
      "text/plain": [
       "<Figure size 432x288 with 1 Axes>"
      ]
     },
     "metadata": {
      "needs_background": "light"
     },
     "output_type": "display_data"
    }
   ],
   "source": [
    "plt.figure()\n",
    "data_train['value'].plot(kind = 'line')\n",
    "data_test['value'].plot(kind = 'line')\n",
    "data_sample['value'].plot(kind = 'line')\n",
    "plt.show()"
   ]
  },
  {
   "cell_type": "markdown",
   "metadata": {},
   "source": [
    "## Статистическая модель [ARIMA](https://ru.wikipedia.org/wiki/ARIMA)"
   ]
  },
  {
   "cell_type": "code",
   "execution_count": 10,
   "metadata": {},
   "outputs": [
    {
     "name": "stdout",
     "output_type": "stream",
     "text": [
      "Performing stepwise search to minimize aic\n",
      " ARIMA(2,0,2)(1,0,1)[4] intercept   : AIC=42026.193, Time=0.96 sec\n",
      " ARIMA(0,0,0)(0,0,0)[4] intercept   : AIC=42912.228, Time=0.02 sec\n",
      " ARIMA(1,0,0)(1,0,0)[4] intercept   : AIC=42352.663, Time=0.44 sec\n",
      " ARIMA(0,0,1)(0,0,1)[4] intercept   : AIC=42271.764, Time=0.18 sec\n",
      " ARIMA(0,0,0)(0,0,0)[4]             : AIC=45821.113, Time=0.01 sec\n",
      " ARIMA(2,0,2)(0,0,1)[4] intercept   : AIC=42138.118, Time=0.47 sec\n",
      " ARIMA(2,0,2)(1,0,0)[4] intercept   : AIC=42130.455, Time=1.09 sec\n",
      " ARIMA(2,0,2)(2,0,1)[4] intercept   : AIC=41842.461, Time=1.64 sec\n",
      " ARIMA(2,0,2)(2,0,0)[4] intercept   : AIC=42088.126, Time=1.28 sec\n",
      " ARIMA(2,0,2)(2,0,2)[4] intercept   : AIC=41829.133, Time=2.41 sec\n",
      " ARIMA(2,0,2)(1,0,2)[4] intercept   : AIC=42095.534, Time=2.49 sec\n",
      " ARIMA(1,0,2)(2,0,2)[4] intercept   : AIC=42117.810, Time=1.94 sec\n",
      " ARIMA(2,0,1)(2,0,2)[4] intercept   : AIC=42107.831, Time=1.47 sec\n",
      " ARIMA(3,0,2)(2,0,2)[4] intercept   : AIC=41841.291, Time=3.43 sec\n",
      " ARIMA(2,0,3)(2,0,2)[4] intercept   : AIC=41552.261, Time=3.12 sec\n",
      " ARIMA(2,0,3)(1,0,2)[4] intercept   : AIC=41630.150, Time=2.80 sec\n",
      " ARIMA(2,0,3)(2,0,1)[4] intercept   : AIC=41534.233, Time=2.87 sec\n",
      " ARIMA(2,0,3)(1,0,1)[4] intercept   : AIC=41537.718, Time=2.24 sec\n",
      " ARIMA(2,0,3)(2,0,0)[4] intercept   : AIC=41563.796, Time=2.23 sec\n",
      " ARIMA(2,0,3)(1,0,0)[4] intercept   : AIC=41591.319, Time=1.92 sec\n",
      " ARIMA(1,0,3)(2,0,1)[4] intercept   : AIC=42079.018, Time=2.35 sec\n",
      " ARIMA(3,0,3)(2,0,1)[4] intercept   : AIC=inf, Time=3.16 sec\n",
      " ARIMA(1,0,2)(2,0,1)[4] intercept   : AIC=42087.935, Time=1.39 sec\n",
      " ARIMA(3,0,2)(2,0,1)[4] intercept   : AIC=inf, Time=2.88 sec\n",
      " ARIMA(2,0,3)(2,0,1)[4]             : AIC=inf, Time=2.10 sec\n",
      "\n",
      "Best model:  ARIMA(2,0,3)(2,0,1)[4] intercept\n",
      "Total fit time: 44.911 seconds\n"
     ]
    }
   ],
   "source": [
    "arima_model=model = pm.auto_arima(data_train, seasonal = True,m = 4,test='adf',error_action='ignore',  \n",
    "                           suppress_warnings=True,\n",
    "                      stepwise=True, trace=True)"
   ]
  },
  {
   "cell_type": "code",
   "execution_count": 11,
   "metadata": {},
   "outputs": [],
   "source": [
    "prediction = pd.DataFrame(model.predict(n_periods = int(data_test.size)), data_test.index)"
   ]
  },
  {
   "cell_type": "code",
   "execution_count": 12,
   "metadata": {},
   "outputs": [],
   "source": [
    "prediction = prediction .rename(columns = {0:'value'})"
   ]
  },
  {
   "cell_type": "markdown",
   "metadata": {},
   "source": [
    "смотрим, что она нам предсказала"
   ]
  },
  {
   "cell_type": "code",
   "execution_count": 13,
   "metadata": {},
   "outputs": [
    {
     "data": {
      "image/png": "[encoded data removed]",
      "text/plain": [
       "<Figure size 432x288 with 1 Axes>"
      ]
     },
     "metadata": {
      "needs_background": "light"
     },
     "output_type": "display_data"
    }
   ],
   "source": [
    "plt.figure()\n",
    "data_train['value'].plot(kind = 'line')\n",
    "data_test['value'].plot(kind = 'line')\n",
    "#plt.plot(data_forecaste, label = \"Prediction\")\n",
    "prediction['value'].plot(kind = 'line')\n",
    "plt.show()"
   ]
  },
  {
   "cell_type": "markdown",
   "metadata": {},
   "source": [
    "### Функция подсчета метрик для конкурса"
   ]
  },
  {
   "cell_type": "code",
   "execution_count": 14,
   "metadata": {},
   "outputs": [],
   "source": [
    "def MAPE(y_true, y_pred):\n",
    "    mape = np.abs(y_pred - y_true) / np.maximum(np.abs(y_true), 1e-6)\n",
    "    mape  = np.average(mape) * 100\n",
    "    return mape"
   ]
  },
  {
   "cell_type": "markdown",
   "metadata": {},
   "source": [
    "### MAPE для ARIMA и тестового сабмишена"
   ]
  },
  {
   "cell_type": "code",
   "execution_count": 15,
   "metadata": {},
   "outputs": [
    {
     "data": {
      "text/plain": [
       "39.23747189797869"
      ]
     },
     "execution_count": 15,
     "metadata": {},
     "output_type": "execute_result"
    }
   ],
   "source": [
    "MAPE(data_test, prediction)"
   ]
  },
  {
   "cell_type": "code",
   "execution_count": 16,
   "metadata": {},
   "outputs": [
    {
     "data": {
      "text/plain": [
       "44.81735178659308"
      ]
     },
     "execution_count": 16,
     "metadata": {},
     "output_type": "execute_result"
    }
   ],
   "source": [
    "MAPE(data_test, data_sample)"
   ]
  },
  {
   "cell_type": "code",
   "execution_count": 17,
   "metadata": {},
   "outputs": [],
   "source": [
    "m = np.mean(data_train)\n",
    "std = np.std(data_train)"
   ]
  },
  {
   "cell_type": "code",
   "execution_count": 18,
   "metadata": {},
   "outputs": [
    {
     "data": {
      "text/plain": [
       "value   -3.209112e-16\n",
       "dtype: float64"
      ]
     },
     "execution_count": 18,
     "metadata": {},
     "output_type": "execute_result"
    }
   ],
   "source": [
    "np.mean( (data_train - m)/std)"
   ]
  },
  {
   "cell_type": "markdown",
   "metadata": {},
   "source": [
    "## Из пандас строим датасет"
   ]
  },
  {
   "cell_type": "code",
   "execution_count": 19,
   "metadata": {},
   "outputs": [],
   "source": [
    "class Stats:\n",
    "    def __init__(self, dataset):\n",
    "        self.mean = np.mean(dataset)\n",
    "        self.std = np.std(dataset)\n",
    "        self.data = (dataset - self.mean) / self.std \n",
    "\n",
    "stats = Stats(data_train)"
   ]
  },
  {
   "cell_type": "code",
   "execution_count": 20,
   "metadata": {},
   "outputs": [],
   "source": [
    "class TSDataset(Dataset):\n",
    "    \n",
    "    def __init__(self, data, seq_len):\n",
    "        super().__init__()\n",
    "        self._len = len(data) - seq_len + 1\n",
    "        self.mean = stats.mean\n",
    "        self.std = stats.std\n",
    "        self.data = (data- self.mean) / self.std \n",
    "        self.seq_len = seq_len\n",
    "        \n",
    "    def __len__(self):\n",
    "        return self._len\n",
    "    \n",
    "    def __getitem__(self, idx):\n",
    "        d = self.data[idx:idx + self.seq_len]\n",
    "        targets = []\n",
    "        days   = []\n",
    "        months = []\n",
    "        year = []\n",
    "        for row in  d.iterrows():\n",
    "            targets += [ row[1]['value'] ]\n",
    "            days += [ row[0].day ]\n",
    "            months += [row[0].month]\n",
    "            year += [row[0].year]\n",
    "            \n",
    "        return torch.LongTensor(days), \\\n",
    "               torch.LongTensor(months), \\\n",
    "               torch.LongTensor(year), \\\n",
    "               torch.FloatTensor(targets)"
   ]
  },
  {
   "cell_type": "code",
   "execution_count": 21,
   "metadata": {},
   "outputs": [],
   "source": [
    "ds_train = TSDataset(data_train, 20) \n",
    "ds_test  = TSDataset(data_test, 20)"
   ]
  },
  {
   "cell_type": "code",
   "execution_count": 22,
   "metadata": {},
   "outputs": [
    {
     "name": "stdout",
     "output_type": "stream",
     "text": [
      "1077\n"
     ]
    }
   ],
   "source": [
    "print(len(ds_train))"
   ]
  },
  {
   "cell_type": "markdown",
   "metadata": {},
   "source": [
    "## Теперь нужно определить нашу модель "
   ]
  },
  {
   "cell_type": "code",
   "execution_count": 23,
   "metadata": {},
   "outputs": [],
   "source": [
    "class TimeSeriesModel(nn.Module):\n",
    "    \n",
    "        def __init__(self, hidden_size: int, input_sizes: tuple):            \n",
    "            super().__init__()\n",
    "            self.mon_emb = nn.Embedding(12+1, input_sizes[0])\n",
    "            self.day_emb = nn.Embedding(31+1, input_sizes[1])\n",
    "            \n",
    "            self.dropout = nn.Dropout(p=0.15)\n",
    "            \n",
    "            self._rnn = nn.LSTM(input_sizes[0] + input_sizes[1]+1,  hidden_size,  batch_first=True)\n",
    "            self._output = nn.Linear(hidden_size, 1)\n",
    "            \n",
    "        def forward(self, batch, ctx = None):\n",
    "            days, mons, _, targets = batch\n",
    "            mon_tensor = self.mon_emb(mons)\n",
    "            day_tensor = self.day_emb(days)\n",
    "            rnn_input  = torch.cat([mon_tensor, day_tensor], dim=-1)\n",
    "            targets = targets.unsqueeze(-1)\n",
    "            rnn_input = torch.cat([rnn_input, targets ], dim=-1)\n",
    "            rnn_input = rnn_input[:, :-1, :] if ctx is None else rnn_input\n",
    "            \n",
    "            rnn_input = self.dropout(rnn_input)\n",
    "            \n",
    "            output, ctx = self._rnn(rnn_input, ctx)\n",
    "            output = self._output(output).squeeze()\n",
    "            return output, ctx"
   ]
  },
  {
   "cell_type": "markdown",
   "metadata": {},
   "source": [
    "### Определяем даталоадеры для теста и трейна"
   ]
  },
  {
   "cell_type": "code",
   "execution_count": 24,
   "metadata": {},
   "outputs": [],
   "source": [
    "dl_train = DataLoader(ds_train, 8 , True)\n",
    "dl_test = DataLoader(ds_test, 8 , False)"
   ]
  },
  {
   "cell_type": "code",
   "execution_count": 25,
   "metadata": {},
   "outputs": [],
   "source": [
    "series_model = TimeSeriesModel(32, (4,4))"
   ]
  },
  {
   "cell_type": "code",
   "execution_count": 26,
   "metadata": {},
   "outputs": [],
   "source": [
    "lr = 1e-4\n",
    "weight_decay = 1e-4\n",
    "\n",
    "loss = nn.L1Loss()\n",
    "optimizer = Adam(series_model.parameters(), lr=lr ,weight_decay=weight_decay)"
   ]
  },
  {
   "cell_type": "code",
   "execution_count": 27,
   "metadata": {},
   "outputs": [],
   "source": [
    "# инициализируем тензорборд, для вывода графиков\n",
    "writer = SummaryWriter(log_dir='./series_runs/')"
   ]
  },
  {
   "cell_type": "markdown",
   "metadata": {},
   "source": [
    "### Обучаем модель"
   ]
  },
  {
   "cell_type": "code",
   "execution_count": 28,
   "metadata": {},
   "outputs": [],
   "source": [
    "global_epoch = 0\n",
    "global_iter = 0"
   ]
  },
  {
   "cell_type": "code",
   "execution_count": 29,
   "metadata": {},
   "outputs": [],
   "source": [
    "def test_model(epoch):\n",
    "    test_iter  = tqdm(dl_test)\n",
    "    sum_loss = 0\n",
    "    num_batches = 0\n",
    "    for i, batch in enumerate(test_iter):\n",
    "        target = batch[-1][:, 1:]\n",
    "        result, _ = series_model(batch)\n",
    "        batch_loss = loss(result, target)\n",
    "        sum_loss += batch_loss\n",
    "        num_batches += 1\n",
    "    sum_loss /= num_batches\n",
    "    writer.add_scalar('Loss/val', sum_loss , epoch)\n",
    "    return sum_loss"
   ]
  },
  {
   "cell_type": "code",
   "execution_count": 30,
   "metadata": {
    "scrolled": true
   },
   "outputs": [
    {
     "name": "stderr",
     "output_type": "stream",
     "text": [
      "Epoch: 0000, Iter Loss: 0.8330: 100%|█████████| 135/135 [00:02<00:00, 61.73it/s]\n",
      "100%|███████████████████████████████████████████| 44/44 [00:00<00:00, 95.92it/s]\n",
      "Epoch: 0001, Iter Loss: 0.8672: 100%|█████████| 135/135 [00:02<00:00, 64.34it/s]\n",
      "100%|███████████████████████████████████████████| 44/44 [00:00<00:00, 93.45it/s]\n",
      "Epoch: 0002, Iter Loss: 0.8313: 100%|█████████| 135/135 [00:02<00:00, 58.76it/s]\n",
      "100%|███████████████████████████████████████████| 44/44 [00:00<00:00, 95.47it/s]\n",
      "Epoch: 0003, Iter Loss: 0.6674: 100%|█████████| 135/135 [00:02<00:00, 59.90it/s]\n",
      "100%|███████████████████████████████████████████| 44/44 [00:00<00:00, 94.65it/s]\n",
      "Epoch: 0004, Iter Loss: 0.6784: 100%|█████████| 135/135 [00:02<00:00, 60.41it/s]\n",
      "100%|███████████████████████████████████████████| 44/44 [00:00<00:00, 91.47it/s]\n",
      "Epoch: 0005, Iter Loss: 0.7080: 100%|█████████| 135/135 [00:02<00:00, 59.09it/s]\n",
      "100%|███████████████████████████████████████████| 44/44 [00:00<00:00, 96.40it/s]\n",
      "Epoch: 0006, Iter Loss: 0.6864: 100%|█████████| 135/135 [00:02<00:00, 61.68it/s]\n",
      "100%|███████████████████████████████████████████| 44/44 [00:00<00:00, 95.92it/s]\n",
      "Epoch: 0007, Iter Loss: 0.6996: 100%|█████████| 135/135 [00:02<00:00, 60.42it/s]\n",
      "100%|███████████████████████████████████████████| 44/44 [00:00<00:00, 92.38it/s]\n",
      "Epoch: 0008, Iter Loss: 0.6208: 100%|█████████| 135/135 [00:02<00:00, 59.36it/s]\n",
      "100%|███████████████████████████████████████████| 44/44 [00:00<00:00, 91.67it/s]\n",
      "Epoch: 0009, Iter Loss: 0.7320: 100%|█████████| 135/135 [00:02<00:00, 61.27it/s]\n",
      "100%|███████████████████████████████████████████| 44/44 [00:00<00:00, 91.90it/s]\n",
      "Epoch: 0010, Iter Loss: 0.7239: 100%|█████████| 135/135 [00:02<00:00, 59.64it/s]\n",
      "100%|███████████████████████████████████████████| 44/44 [00:00<00:00, 94.97it/s]\n",
      "Epoch: 0011, Iter Loss: 0.6503: 100%|█████████| 135/135 [00:02<00:00, 60.61it/s]\n",
      "100%|███████████████████████████████████████████| 44/44 [00:00<00:00, 94.97it/s]\n",
      "Epoch: 0012, Iter Loss: 0.6580: 100%|█████████| 135/135 [00:02<00:00, 61.16it/s]\n",
      "100%|███████████████████████████████████████████| 44/44 [00:00<00:00, 95.22it/s]\n",
      "Epoch: 0013, Iter Loss: 0.6452: 100%|█████████| 135/135 [00:02<00:00, 60.42it/s]\n",
      "100%|███████████████████████████████████████████| 44/44 [00:00<00:00, 99.87it/s]\n",
      "Epoch: 0014, Iter Loss: 0.5694: 100%|█████████| 135/135 [00:02<00:00, 61.20it/s]\n",
      "100%|██████████████████████████████████████████| 44/44 [00:00<00:00, 102.03it/s]\n",
      "Epoch: 0015, Iter Loss: 0.6936: 100%|█████████| 135/135 [00:02<00:00, 60.42it/s]\n",
      "100%|███████████████████████████████████████████| 44/44 [00:00<00:00, 91.19it/s]\n",
      "Epoch: 0016, Iter Loss: 0.6147: 100%|█████████| 135/135 [00:02<00:00, 58.31it/s]\n",
      "100%|███████████████████████████████████████████| 44/44 [00:00<00:00, 98.94it/s]\n",
      "Epoch: 0017, Iter Loss: 0.5792: 100%|█████████| 135/135 [00:02<00:00, 61.22it/s]\n",
      "100%|███████████████████████████████████████████| 44/44 [00:00<00:00, 98.18it/s]\n",
      "Epoch: 0018, Iter Loss: 0.5865: 100%|█████████| 135/135 [00:02<00:00, 61.24it/s]\n",
      "100%|███████████████████████████████████████████| 44/44 [00:00<00:00, 91.77it/s]\n",
      "Epoch: 0019, Iter Loss: 0.6351: 100%|█████████| 135/135 [00:02<00:00, 61.93it/s]\n",
      "100%|███████████████████████████████████████████| 44/44 [00:00<00:00, 99.71it/s]\n",
      "Epoch: 0020, Iter Loss: 0.5670: 100%|█████████| 135/135 [00:02<00:00, 60.43it/s]\n",
      "100%|███████████████████████████████████████████| 44/44 [00:00<00:00, 93.93it/s]\n",
      "Epoch: 0021, Iter Loss: 0.5779: 100%|█████████| 135/135 [00:02<00:00, 58.63it/s]\n",
      "100%|███████████████████████████████████████████| 44/44 [00:00<00:00, 92.43it/s]\n",
      "Epoch: 0022, Iter Loss: 0.5570: 100%|█████████| 135/135 [00:02<00:00, 60.37it/s]\n",
      "100%|███████████████████████████████████████████| 44/44 [00:00<00:00, 98.45it/s]\n",
      "Epoch: 0023, Iter Loss: 0.6318: 100%|█████████| 135/135 [00:02<00:00, 60.19it/s]\n",
      "100%|███████████████████████████████████████████| 44/44 [00:00<00:00, 98.90it/s]\n",
      "Epoch: 0024, Iter Loss: 0.5275: 100%|█████████| 135/135 [00:02<00:00, 61.37it/s]\n",
      "100%|███████████████████████████████████████████| 44/44 [00:00<00:00, 95.36it/s]\n",
      "Epoch: 0025, Iter Loss: 0.5405: 100%|█████████| 135/135 [00:02<00:00, 61.69it/s]\n",
      "100%|███████████████████████████████████████████| 44/44 [00:00<00:00, 93.68it/s]\n",
      "Epoch: 0026, Iter Loss: 0.5081: 100%|█████████| 135/135 [00:02<00:00, 61.72it/s]\n",
      "100%|███████████████████████████████████████████| 44/44 [00:00<00:00, 95.36it/s]\n",
      "Epoch: 0027, Iter Loss: 0.4608: 100%|█████████| 135/135 [00:02<00:00, 61.79it/s]\n",
      "100%|███████████████████████████████████████████| 44/44 [00:00<00:00, 95.47it/s]\n",
      "Epoch: 0028, Iter Loss: 0.4597: 100%|█████████| 135/135 [00:02<00:00, 61.01it/s]\n",
      "100%|███████████████████████████████████████████| 44/44 [00:00<00:00, 94.53it/s]\n",
      "Epoch: 0029, Iter Loss: 0.5776: 100%|█████████| 135/135 [00:02<00:00, 60.45it/s]\n",
      "100%|███████████████████████████████████████████| 44/44 [00:00<00:00, 96.17it/s]\n",
      "Epoch: 0030, Iter Loss: 0.4178: 100%|█████████| 135/135 [00:02<00:00, 61.30it/s]\n",
      "100%|███████████████████████████████████████████| 44/44 [00:00<00:00, 98.24it/s]\n",
      "Epoch: 0031, Iter Loss: 0.4516: 100%|█████████| 135/135 [00:02<00:00, 60.88it/s]\n",
      "100%|██████████████████████████████████████████| 44/44 [00:00<00:00, 106.11it/s]\n",
      "Epoch: 0032, Iter Loss: 0.5649: 100%|█████████| 135/135 [00:02<00:00, 59.99it/s]\n",
      "100%|███████████████████████████████████████████| 44/44 [00:00<00:00, 89.23it/s]\n",
      "Epoch: 0033, Iter Loss: 0.4362: 100%|█████████| 135/135 [00:02<00:00, 58.60it/s]\n",
      "100%|███████████████████████████████████████████| 44/44 [00:00<00:00, 98.87it/s]\n",
      "Epoch: 0034, Iter Loss: 0.4856: 100%|█████████| 135/135 [00:02<00:00, 62.00it/s]\n",
      "100%|███████████████████████████████████████████| 44/44 [00:00<00:00, 97.55it/s]\n",
      "Epoch: 0035, Iter Loss: 0.4214: 100%|█████████| 135/135 [00:02<00:00, 61.85it/s]\n",
      "100%|███████████████████████████████████████████| 44/44 [00:00<00:00, 98.34it/s]\n",
      "Epoch: 0036, Iter Loss: 0.3892: 100%|█████████| 135/135 [00:02<00:00, 59.99it/s]\n",
      "100%|███████████████████████████████████████████| 44/44 [00:00<00:00, 95.15it/s]\n",
      "Epoch: 0037, Iter Loss: 0.4003: 100%|█████████| 135/135 [00:02<00:00, 59.45it/s]\n",
      "100%|██████████████████████████████████████████| 44/44 [00:00<00:00, 100.12it/s]\n",
      "Epoch: 0038, Iter Loss: 0.4124: 100%|█████████| 135/135 [00:02<00:00, 60.58it/s]\n",
      "100%|███████████████████████████████████████████| 44/44 [00:00<00:00, 94.41it/s]\n",
      "Epoch: 0039, Iter Loss: 0.3994: 100%|█████████| 135/135 [00:02<00:00, 60.49it/s]\n",
      "100%|███████████████████████████████████████████| 44/44 [00:00<00:00, 94.75it/s]\n",
      "Epoch: 0040, Iter Loss: 0.3359: 100%|█████████| 135/135 [00:02<00:00, 60.13it/s]\n",
      "100%|███████████████████████████████████████████| 44/44 [00:00<00:00, 97.73it/s]\n",
      "Epoch: 0041, Iter Loss: 0.4641: 100%|█████████| 135/135 [00:02<00:00, 61.54it/s]\n",
      "100%|███████████████████████████████████████████| 44/44 [00:00<00:00, 95.00it/s]\n",
      "Epoch: 0042, Iter Loss: 0.3137: 100%|█████████| 135/135 [00:02<00:00, 60.74it/s]\n",
      "100%|███████████████████████████████████████████| 44/44 [00:00<00:00, 96.10it/s]\n",
      "Epoch: 0043, Iter Loss: 0.4127: 100%|█████████| 135/135 [00:02<00:00, 61.17it/s]\n",
      "100%|███████████████████████████████████████████| 44/44 [00:00<00:00, 89.81it/s]\n",
      "Epoch: 0044, Iter Loss: 0.3546: 100%|█████████| 135/135 [00:02<00:00, 59.59it/s]\n",
      "100%|███████████████████████████████████████████| 44/44 [00:00<00:00, 96.83it/s]\n",
      "Epoch: 0045, Iter Loss: 0.6186: 100%|█████████| 135/135 [00:02<00:00, 58.18it/s]\n",
      "100%|██████████████████████████████████████████| 44/44 [00:00<00:00, 100.38it/s]\n",
      "Epoch: 0046, Iter Loss: 0.4691: 100%|█████████| 135/135 [00:02<00:00, 58.87it/s]\n",
      "100%|███████████████████████████████████████████| 44/44 [00:00<00:00, 91.03it/s]\n",
      "Epoch: 0047, Iter Loss: 0.3791: 100%|█████████| 135/135 [00:02<00:00, 61.03it/s]\n",
      "100%|███████████████████████████████████████████| 44/44 [00:00<00:00, 94.71it/s]\n",
      "Epoch: 0048, Iter Loss: 0.3320: 100%|█████████| 135/135 [00:02<00:00, 60.37it/s]\n",
      "100%|███████████████████████████████████████████| 44/44 [00:00<00:00, 89.17it/s]\n",
      "Epoch: 0049, Iter Loss: 0.3493: 100%|█████████| 135/135 [00:02<00:00, 63.20it/s]\n",
      "100%|██████████████████████████████████████████| 44/44 [00:00<00:00, 102.34it/s]\n",
      "Epoch: 0050, Iter Loss: 0.3205: 100%|█████████| 135/135 [00:02<00:00, 60.23it/s]\n"
     ]
    },
    {
     "name": "stderr",
     "output_type": "stream",
     "text": [
      "100%|███████████████████████████████████████████| 44/44 [00:00<00:00, 98.28it/s]\n",
      "Epoch: 0051, Iter Loss: 0.3200: 100%|█████████| 135/135 [00:02<00:00, 60.00it/s]\n",
      "100%|███████████████████████████████████████████| 44/44 [00:00<00:00, 96.37it/s]\n",
      "Epoch: 0052, Iter Loss: 0.3191: 100%|█████████| 135/135 [00:02<00:00, 60.89it/s]\n",
      "100%|███████████████████████████████████████████| 44/44 [00:00<00:00, 96.54it/s]\n",
      "Epoch: 0053, Iter Loss: 0.4277: 100%|█████████| 135/135 [00:02<00:00, 60.22it/s]\n",
      "100%|███████████████████████████████████████████| 44/44 [00:00<00:00, 99.11it/s]\n",
      "Epoch: 0054, Iter Loss: 0.4341: 100%|█████████| 135/135 [00:02<00:00, 59.67it/s]\n",
      "100%|███████████████████████████████████████████| 44/44 [00:00<00:00, 98.29it/s]\n",
      "Epoch: 0055, Iter Loss: 0.2807: 100%|█████████| 135/135 [00:02<00:00, 61.43it/s]\n",
      "100%|███████████████████████████████████████████| 44/44 [00:00<00:00, 96.97it/s]\n",
      "Epoch: 0056, Iter Loss: 0.2710: 100%|█████████| 135/135 [00:02<00:00, 59.24it/s]\n",
      "100%|███████████████████████████████████████████| 44/44 [00:00<00:00, 96.21it/s]\n",
      "Epoch: 0057, Iter Loss: 0.2178: 100%|█████████| 135/135 [00:02<00:00, 60.66it/s]\n",
      "100%|███████████████████████████████████████████| 44/44 [00:00<00:00, 95.26it/s]\n",
      "Epoch: 0058, Iter Loss: 0.4141: 100%|█████████| 135/135 [00:02<00:00, 60.18it/s]\n",
      "100%|███████████████████████████████████████████| 44/44 [00:00<00:00, 96.81it/s]\n",
      "Epoch: 0059, Iter Loss: 0.2431: 100%|█████████| 135/135 [00:02<00:00, 61.56it/s]\n",
      "100%|███████████████████████████████████████████| 44/44 [00:00<00:00, 98.80it/s]\n",
      "Epoch: 0060, Iter Loss: 0.3059: 100%|█████████| 135/135 [00:02<00:00, 61.53it/s]\n",
      "100%|███████████████████████████████████████████| 44/44 [00:00<00:00, 96.13it/s]\n",
      "Epoch: 0061, Iter Loss: 0.2886: 100%|█████████| 135/135 [00:02<00:00, 60.36it/s]\n",
      "100%|██████████████████████████████████████████| 44/44 [00:00<00:00, 100.14it/s]\n",
      "Epoch: 0062, Iter Loss: 0.3187: 100%|█████████| 135/135 [00:02<00:00, 62.27it/s]\n",
      "100%|███████████████████████████████████████████| 44/44 [00:00<00:00, 94.81it/s]\n",
      "Epoch: 0063, Iter Loss: 0.2526: 100%|█████████| 135/135 [00:02<00:00, 61.21it/s]\n",
      "100%|███████████████████████████████████████████| 44/44 [00:00<00:00, 96.18it/s]\n",
      "Epoch: 0064, Iter Loss: 0.2432: 100%|█████████| 135/135 [00:02<00:00, 62.13it/s]\n",
      "100%|███████████████████████████████████████████| 44/44 [00:00<00:00, 99.98it/s]\n",
      "Epoch: 0065, Iter Loss: 0.2650: 100%|█████████| 135/135 [00:02<00:00, 62.28it/s]\n",
      "100%|███████████████████████████████████████████| 44/44 [00:00<00:00, 97.88it/s]\n",
      "Epoch: 0066, Iter Loss: 0.2167: 100%|█████████| 135/135 [00:02<00:00, 62.39it/s]\n",
      "100%|███████████████████████████████████████████| 44/44 [00:00<00:00, 96.20it/s]\n",
      "Epoch: 0067, Iter Loss: 0.3014: 100%|█████████| 135/135 [00:02<00:00, 63.42it/s]\n",
      "100%|███████████████████████████████████████████| 44/44 [00:00<00:00, 94.83it/s]\n",
      "Epoch: 0068, Iter Loss: 0.3229: 100%|█████████| 135/135 [00:02<00:00, 60.03it/s]\n",
      "100%|███████████████████████████████████████████| 44/44 [00:00<00:00, 93.57it/s]\n",
      "Epoch: 0069, Iter Loss: 0.3314: 100%|█████████| 135/135 [00:02<00:00, 60.10it/s]\n",
      "100%|███████████████████████████████████████████| 44/44 [00:00<00:00, 94.96it/s]\n",
      "Epoch: 0070, Iter Loss: 0.2406: 100%|█████████| 135/135 [00:02<00:00, 59.79it/s]\n",
      "100%|███████████████████████████████████████████| 44/44 [00:00<00:00, 96.33it/s]\n",
      "Epoch: 0071, Iter Loss: 0.2062: 100%|█████████| 135/135 [00:02<00:00, 61.16it/s]\n",
      "100%|███████████████████████████████████████████| 44/44 [00:00<00:00, 96.18it/s]\n",
      "Epoch: 0072, Iter Loss: 0.2406: 100%|█████████| 135/135 [00:02<00:00, 60.33it/s]\n",
      "100%|███████████████████████████████████████████| 44/44 [00:00<00:00, 91.50it/s]\n",
      "Epoch: 0073, Iter Loss: 0.3370: 100%|█████████| 135/135 [00:02<00:00, 61.61it/s]\n",
      "100%|███████████████████████████████████████████| 44/44 [00:00<00:00, 97.47it/s]\n",
      "Epoch: 0074, Iter Loss: 0.3517: 100%|█████████| 135/135 [00:02<00:00, 62.99it/s]\n",
      "100%|███████████████████████████████████████████| 44/44 [00:00<00:00, 93.39it/s]\n",
      "Epoch: 0075, Iter Loss: 0.2483: 100%|█████████| 135/135 [00:02<00:00, 60.92it/s]\n",
      "100%|███████████████████████████████████████████| 44/44 [00:00<00:00, 93.71it/s]\n",
      "Epoch: 0076, Iter Loss: 0.2537: 100%|█████████| 135/135 [00:02<00:00, 61.33it/s]\n",
      "100%|███████████████████████████████████████████| 44/44 [00:00<00:00, 95.62it/s]\n",
      "Epoch: 0077, Iter Loss: 0.3526: 100%|█████████| 135/135 [00:02<00:00, 61.74it/s]\n",
      "100%|███████████████████████████████████████████| 44/44 [00:00<00:00, 97.89it/s]\n",
      "Epoch: 0078, Iter Loss: 0.3317: 100%|█████████| 135/135 [00:02<00:00, 61.32it/s]\n",
      "100%|███████████████████████████████████████████| 44/44 [00:00<00:00, 97.80it/s]\n",
      "Epoch: 0079, Iter Loss: 0.3915: 100%|█████████| 135/135 [00:02<00:00, 61.64it/s]\n",
      "100%|███████████████████████████████████████████| 44/44 [00:00<00:00, 95.90it/s]\n",
      "Epoch: 0080, Iter Loss: 0.2134: 100%|█████████| 135/135 [00:02<00:00, 59.61it/s]\n",
      "100%|███████████████████████████████████████████| 44/44 [00:00<00:00, 90.89it/s]\n",
      "Epoch: 0081, Iter Loss: 0.2677: 100%|█████████| 135/135 [00:02<00:00, 60.35it/s]\n",
      "100%|███████████████████████████████████████████| 44/44 [00:00<00:00, 91.78it/s]\n",
      "Epoch: 0082, Iter Loss: 0.3727: 100%|█████████| 135/135 [00:02<00:00, 60.26it/s]\n",
      "100%|███████████████████████████████████████████| 44/44 [00:00<00:00, 97.08it/s]\n",
      "Epoch: 0083, Iter Loss: 0.2778: 100%|█████████| 135/135 [00:02<00:00, 60.97it/s]\n",
      "100%|███████████████████████████████████████████| 44/44 [00:00<00:00, 96.01it/s]\n",
      "Epoch: 0084, Iter Loss: 0.2640: 100%|█████████| 135/135 [00:02<00:00, 60.82it/s]\n",
      "100%|███████████████████████████████████████████| 44/44 [00:00<00:00, 95.66it/s]\n",
      "Epoch: 0085, Iter Loss: 0.2308: 100%|█████████| 135/135 [00:02<00:00, 60.40it/s]\n",
      "100%|███████████████████████████████████████████| 44/44 [00:00<00:00, 96.67it/s]\n",
      "Epoch: 0086, Iter Loss: 0.1896: 100%|█████████| 135/135 [00:02<00:00, 61.19it/s]\n",
      "100%|███████████████████████████████████████████| 44/44 [00:00<00:00, 94.33it/s]\n",
      "Epoch: 0087, Iter Loss: 0.3632: 100%|█████████| 135/135 [00:02<00:00, 61.18it/s]\n",
      "100%|███████████████████████████████████████████| 44/44 [00:00<00:00, 95.44it/s]\n",
      "Epoch: 0088, Iter Loss: 0.3844: 100%|█████████| 135/135 [00:02<00:00, 58.98it/s]\n",
      "100%|███████████████████████████████████████████| 44/44 [00:00<00:00, 94.84it/s]\n",
      "Epoch: 0089, Iter Loss: 0.3655: 100%|█████████| 135/135 [00:02<00:00, 60.71it/s]\n",
      "100%|███████████████████████████████████████████| 44/44 [00:00<00:00, 96.23it/s]\n",
      "Epoch: 0090, Iter Loss: 0.3398: 100%|█████████| 135/135 [00:02<00:00, 62.24it/s]\n",
      "100%|███████████████████████████████████████████| 44/44 [00:00<00:00, 96.90it/s]\n",
      "Epoch: 0091, Iter Loss: 0.2845: 100%|█████████| 135/135 [00:02<00:00, 59.15it/s]\n",
      "100%|███████████████████████████████████████████| 44/44 [00:00<00:00, 95.44it/s]\n",
      "Epoch: 0092, Iter Loss: 0.3168: 100%|█████████| 135/135 [00:02<00:00, 62.10it/s]\n",
      "100%|██████████████████████████████████████████| 44/44 [00:00<00:00, 102.34it/s]\n",
      "Epoch: 0093, Iter Loss: 0.3600: 100%|█████████| 135/135 [00:02<00:00, 60.19it/s]\n",
      "100%|███████████████████████████████████████████| 44/44 [00:00<00:00, 99.87it/s]\n",
      "Epoch: 0094, Iter Loss: 0.2375: 100%|█████████| 135/135 [00:02<00:00, 60.90it/s]\n",
      "100%|███████████████████████████████████████████| 44/44 [00:00<00:00, 96.45it/s]\n",
      "Epoch: 0095, Iter Loss: 0.2904: 100%|█████████| 135/135 [00:02<00:00, 60.53it/s]\n",
      "100%|███████████████████████████████████████████| 44/44 [00:00<00:00, 95.20it/s]\n",
      "Epoch: 0096, Iter Loss: 0.2843: 100%|█████████| 135/135 [00:02<00:00, 60.93it/s]\n",
      "100%|███████████████████████████████████████████| 44/44 [00:00<00:00, 94.04it/s]\n",
      "Epoch: 0097, Iter Loss: 0.3474: 100%|█████████| 135/135 [00:02<00:00, 61.17it/s]\n",
      "100%|███████████████████████████████████████████| 44/44 [00:00<00:00, 97.07it/s]\n",
      "Epoch: 0098, Iter Loss: 0.3591: 100%|█████████| 135/135 [00:02<00:00, 58.56it/s]\n",
      "100%|███████████████████████████████████████████| 44/44 [00:00<00:00, 92.84it/s]\n",
      "Epoch: 0099, Iter Loss: 0.2977: 100%|█████████| 135/135 [00:02<00:00, 61.34it/s]\n",
      "100%|███████████████████████████████████████████| 44/44 [00:00<00:00, 94.87it/s]\n"
     ]
    }
   ],
   "source": [
    "for epoch in range(0, 100):\n",
    "    epoch_iter = tqdm(dl_train)\n",
    "    series_model.train()\n",
    "    for batch in epoch_iter:\n",
    "        optimizer.zero_grad()\n",
    "        target = batch[-1][:,1:]\n",
    "        result, _ = series_model(batch)        \n",
    "        batch_loss = loss(result, target)\n",
    "        batch_loss.backward()\n",
    "        epoch_iter.set_description(\"Epoch: %04d, Iter Loss: %.4f\"  %(epoch, batch_loss))\n",
    "        optimizer.step()\n",
    "        writer.add_scalar('Loss/train', batch_loss , global_iter)\n",
    "        global_iter += 1\n",
    "    with torch.no_grad():\n",
    "        series_model.eval()\n",
    "        test_model(global_epoch)\n",
    "    global_epoch += 1"
   ]
  },
  {
   "cell_type": "code",
   "execution_count": 31,
   "metadata": {},
   "outputs": [],
   "source": [
    "# сохраняем модель\n",
    "torch.save(series_model.state_dict(), 'series_model.ptx')"
   ]
  },
  {
   "cell_type": "code",
   "execution_count": 32,
   "metadata": {},
   "outputs": [
    {
     "data": {
      "text/plain": [
       "<All keys matched successfully>"
      ]
     },
     "execution_count": 32,
     "metadata": {},
     "output_type": "execute_result"
    }
   ],
   "source": [
    "# восстанавливаем модель\n",
    "series_model = TimeSeriesModel(32, (4,4))\n",
    "series_model.load_state_dict(torch.load('series_model.ptx'))"
   ]
  },
  {
   "cell_type": "markdown",
   "metadata": {},
   "source": [
    "### Генерация результата"
   ]
  },
  {
   "cell_type": "code",
   "execution_count": 37,
   "metadata": {},
   "outputs": [],
   "source": [
    "last_window = list(ds_train[len(ds_train) - 1])\n",
    "for i in range(len(last_window)):\n",
    "    last_window[i] = last_window[i].view([1,-1])"
   ]
  },
  {
   "cell_type": "code",
   "execution_count": 38,
   "metadata": {},
   "outputs": [
    {
     "name": "stdout",
     "output_type": "stream",
     "text": [
      "tensor([31]) tensor([12]) tensor([2018])\n"
     ]
    }
   ],
   "source": [
    "with open('new_submition.csv', 'wt') as sf:\n",
    "    print('date,hits', file=sf)\n",
    "    with torch.no_grad():\n",
    "        series_model.eval()\n",
    "        ds_val  = TSDataset(data_test, 1)\n",
    "        output, ctx = series_model(last_window)\n",
    "        d, m, year, prev = last_window[0][0,-1:], last_window[1][0,-1:], last_window[2][0,-1:],  output[-1:]\n",
    "        print(d, m, year)\n",
    "        result = []\n",
    "        for i in range(len(ds_val)):\n",
    "            output, ctx = series_model((d.unsqueeze(0), m.unsqueeze(0), 0 , prev.unsqueeze(0)), ctx)\n",
    "            result += [float(output)]\n",
    "            t = ds_val[i]\n",
    "            d, m, year, prev = t[0], t[1], t[2], torch.FloatTensor([output])\n",
    "            print('%d-%02d-%02d,%d' %(year,m,d, float(prev)*stats.std + stats.mean), file=sf)"
   ]
  },
  {
   "cell_type": "code",
   "execution_count": 41,
   "metadata": {},
   "outputs": [
    {
     "data": {
      "text/plain": [
       "10.052074558935649"
      ]
     },
     "execution_count": 41,
     "metadata": {},
     "output_type": "execute_result"
    }
   ],
   "source": [
    "submition = read_set('new_submition.csv')\n",
    "MAPE(data_test, submition)"
   ]
  },
  {
   "cell_type": "code",
   "execution_count": 42,
   "metadata": {
    "scrolled": false
   },
   "outputs": [
    {
     "data": {
      "image/png": "[encoded data removed]",
      "text/plain": [
       "<Figure size 432x288 with 1 Axes>"
      ]
     },
     "metadata": {
      "needs_background": "light"
     },
     "output_type": "display_data"
    }
   ],
   "source": [
    "plt.figure()\n",
    "data_train['value'].plot(kind = 'line')\n",
    "data_test['value'].plot(kind = 'line')\n",
    "#plt.plot(data_forecaste, label = \"Prediction\")\n",
    "submition['value'].plot(kind = 'line')\n",
    "plt.show()"
   ]
  }
 ],
 "metadata": {
  "kernelspec": {
   "display_name": "Python 3 (ipykernel)",
   "language": "python",
   "name": "python3"
  },
  "language_info": {
   "codemirror_mode": {
    "name": "ipython",
    "version": 3
   },
   "file_extension": ".py",
   "mimetype": "text/x-python",
   "name": "python",
   "nbconvert_exporter": "python",
   "pygments_lexer": "ipython3",
   "version": "3.8.8"
  }
 },
 "nbformat": 4,
 "nbformat_minor": 4
}
